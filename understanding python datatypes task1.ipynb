{
 "cells": [
  {
   "cell_type": "markdown",
   "metadata": {},
   "source": [
    "My First Intership Task"
   ]
  },
  {
   "cell_type": "code",
   "execution_count": 1,
   "metadata": {},
   "outputs": [
    {
     "name": "stdout",
     "output_type": "stream",
     "text": [
      "List after adding element: [1, 2, 3, 4, 5, 6]\n",
      "List after removing element: [1, 2, 4, 5, 6]\n",
      "List after modifying element: [8, 2, 4, 5, 6]\n"
     ]
    }
   ],
   "source": [
    "#creating a list\n",
    "my_list=[1,2,3,4,5]\n",
    "#adding an element to the list\n",
    "my_list.append(6)\n",
    "print(\"List after adding element:\",my_list)\n",
    "#removing an element from the list\n",
    "my_list.remove(3)\n",
    "print(\"List after removing element:\",my_list)\n",
    "#modifing an element in the list\n",
    "my_list[0]=8\n",
    "print(\"List after modifying element:\",my_list)"
   ]
  },
  {
   "cell_type": "code",
   "execution_count": 2,
   "metadata": {},
   "outputs": [
    {
     "name": "stdout",
     "output_type": "stream",
     "text": [
      "Dictionary after adding element: {'a': 1, 'b': 2, 'c': 3, 'd': 4}\n",
      "dictionary after removing element: {'a': 1, 'c': 3, 'd': 4}\n",
      "dictionary after modifying element: {'a': 100, 'c': 3, 'd': 4}\n"
     ]
    }
   ],
   "source": [
    "#creating a dictionary\n",
    "my_dict={'a':1,'b':2,'c':3}\n",
    "#adding elements to the dictionary\n",
    "my_dict['d']=4\n",
    "print(\"Dictionary after adding element:\",my_dict)\n",
    "#removing elements from the dictionary\n",
    "del my_dict['b']\n",
    "print(\"dictionary after removing element:\",my_dict)\n",
    "#modifying elements in the dictionary\n",
    "my_dict['a']=100\n",
    "print(\"dictionary after modifying element:\",my_dict)"
   ]
  },
  {
   "cell_type": "code",
   "execution_count": 3,
   "metadata": {},
   "outputs": [
    {
     "name": "stdout",
     "output_type": "stream",
     "text": [
      "set after adding element: {1, 2, 3, 4, 5, 6}\n",
      "set after removing element: {1, 2, 4, 5, 6}\n"
     ]
    }
   ],
   "source": [
    "#creating a set\n",
    "my_set={1,2,3,4,5}\n",
    "#adding elements to the set\n",
    "my_set.add(6)\n",
    "print(\"set after adding element:\",my_set)\n",
    "#removing elements from the set\n",
    "my_set.remove(3)\n",
    "print(\"set after removing element:\",my_set)\n"
   ]
  }
 ],
 "metadata": {
  "kernelspec": {
   "display_name": "Python 3",
   "language": "python",
   "name": "python3"
  },
  "language_info": {
   "codemirror_mode": {
    "name": "ipython",
    "version": 3
   },
   "file_extension": ".py",
   "mimetype": "text/x-python",
   "name": "python",
   "nbconvert_exporter": "python",
   "pygments_lexer": "ipython3",
   "version": "3.12.2"
  }
 },
 "nbformat": 4,
 "nbformat_minor": 2
}
